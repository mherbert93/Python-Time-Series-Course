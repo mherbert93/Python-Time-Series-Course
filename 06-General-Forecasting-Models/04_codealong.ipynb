{
 "cells": [
  {
   "cell_type": "code",
   "execution_count": 1,
   "metadata": {
    "collapsed": true
   },
   "outputs": [],
   "source": [
    "import pandas as pd\n",
    "import numpy as np\n",
    "%matplotlib inline"
   ]
  },
  {
   "cell_type": "code",
   "execution_count": 2,
   "outputs": [],
   "source": [
    "df1 = pd.read_csv(r\"..\\Data\\airline_passengers.csv\", index_col='Month', parse_dates=True)\n",
    "df1.index.freq = 'MS'\n",
    "\n",
    "df2 = pd.read_csv(r\"..\\Data\\DailyTotalFemaleBirths.csv\", index_col='Date', parse_dates=True)\n",
    "df2.index.freq = 'D'"
   ],
   "metadata": {
    "collapsed": false,
    "pycharm": {
     "name": "#%%\n"
    }
   }
  },
  {
   "cell_type": "code",
   "execution_count": 3,
   "outputs": [],
   "source": [
    "from pmdarima import auto_arima"
   ],
   "metadata": {
    "collapsed": false,
    "pycharm": {
     "name": "#%%\n"
    }
   }
  },
  {
   "cell_type": "code",
   "execution_count": 4,
   "outputs": [],
   "source": [
    "import warnings\n",
    "warnings.filterwarnings('ignore')"
   ],
   "metadata": {
    "collapsed": false,
    "pycharm": {
     "name": "#%%\n"
    }
   }
  },
  {
   "cell_type": "code",
   "execution_count": 7,
   "outputs": [],
   "source": [
    "# help(auto_arima)"
   ],
   "metadata": {
    "collapsed": false,
    "pycharm": {
     "name": "#%%\n"
    }
   }
  },
  {
   "cell_type": "code",
   "execution_count": 8,
   "outputs": [
    {
     "name": "stdout",
     "output_type": "stream",
     "text": [
      "Performing stepwise search to minimize aic\n",
      "Fit ARIMA(0,1,0)x(0,0,0,0) [intercept=True]; AIC=2650.760, BIC=2658.555, Time=0.036 seconds\n",
      "Fit ARIMA(1,1,0)x(0,0,0,0) [intercept=True]; AIC=2565.234, BIC=2576.925, Time=0.029 seconds\n",
      "Fit ARIMA(0,1,1)x(0,0,0,0) [intercept=True]; AIC=2463.584, BIC=2475.275, Time=0.055 seconds\n",
      "Fit ARIMA(0,1,0)x(0,0,0,0) [intercept=False]; AIC=2648.768, BIC=2652.665, Time=0.005 seconds\n",
      "Fit ARIMA(1,1,1)x(0,0,0,0) [intercept=True]; AIC=2460.154, BIC=2475.743, Time=0.104 seconds\n",
      "Fit ARIMA(2,1,1)x(0,0,0,0) [intercept=True]; AIC=2461.271, BIC=2480.757, Time=0.151 seconds\n",
      "Fit ARIMA(1,1,2)x(0,0,0,0) [intercept=True]; AIC=2460.751, BIC=2480.237, Time=0.264 seconds\n",
      "Near non-invertible roots for order (1, 1, 2)(0, 0, 0, 0); setting score to inf (at least one inverse root too close to the border of the unit circle: 0.996)\n",
      "Fit ARIMA(0,1,2)x(0,0,0,0) [intercept=True]; AIC=2460.722, BIC=2476.311, Time=0.105 seconds\n",
      "Fit ARIMA(2,1,0)x(0,0,0,0) [intercept=True]; AIC=2536.154, BIC=2551.742, Time=0.065 seconds\n",
      "Fit ARIMA(2,1,2)x(0,0,0,0) [intercept=True]; AIC=2463.066, BIC=2486.449, Time=0.341 seconds\n",
      "Total fit time: 1.177 seconds\n"
     ]
    }
   ],
   "source": [
    "stepwise_fit = auto_arima(df2['Births'], start_p=0, start_q=0, max_p=6, max_q=3, seasonal=False, trace=True)"
   ],
   "metadata": {
    "collapsed": false,
    "pycharm": {
     "name": "#%%\n"
    }
   }
  },
  {
   "cell_type": "code",
   "execution_count": 9,
   "outputs": [
    {
     "data": {
      "text/plain": "<class 'statsmodels.iolib.summary.Summary'>\n\"\"\"\n                               SARIMAX Results                                \n==============================================================================\nDep. Variable:                      y   No. Observations:                  365\nModel:               SARIMAX(1, 1, 1)   Log Likelihood               -1226.077\nDate:                Sun, 31 May 2020   AIC                           2460.154\nTime:                        01:23:22   BIC                           2475.743\nSample:                             0   HQIC                          2466.350\n                                - 365                                         \nCovariance Type:                  opg                                         \n==============================================================================\n                 coef    std err          z      P>|z|      [0.025      0.975]\n------------------------------------------------------------------------------\nintercept      0.0132      0.014      0.975      0.330      -0.013       0.040\nar.L1          0.1299      0.059      2.217      0.027       0.015       0.245\nma.L1         -0.9694      0.016    -62.235      0.000      -1.000      -0.939\nsigma2        48.9989      3.432     14.279      0.000      42.273      55.725\n===================================================================================\nLjung-Box (Q):                       36.69   Jarque-Bera (JB):                26.17\nProb(Q):                              0.62   Prob(JB):                         0.00\nHeteroskedasticity (H):               0.97   Skew:                             0.58\nProb(H) (two-sided):                  0.85   Kurtosis:                         3.62\n===================================================================================\n\nWarnings:\n[1] Covariance matrix calculated using the outer product of gradients (complex-step).\n\"\"\"",
      "text/html": "<table class=\"simpletable\">\n<caption>SARIMAX Results</caption>\n<tr>\n  <th>Dep. Variable:</th>           <td>y</td>        <th>  No. Observations:  </th>    <td>365</td>   \n</tr>\n<tr>\n  <th>Model:</th>           <td>SARIMAX(1, 1, 1)</td> <th>  Log Likelihood     </th> <td>-1226.077</td>\n</tr>\n<tr>\n  <th>Date:</th>            <td>Sun, 31 May 2020</td> <th>  AIC                </th> <td>2460.154</td> \n</tr>\n<tr>\n  <th>Time:</th>                <td>01:23:22</td>     <th>  BIC                </th> <td>2475.743</td> \n</tr>\n<tr>\n  <th>Sample:</th>                  <td>0</td>        <th>  HQIC               </th> <td>2466.350</td> \n</tr>\n<tr>\n  <th></th>                      <td> - 365</td>      <th>                     </th>     <td> </td>    \n</tr>\n<tr>\n  <th>Covariance Type:</th>        <td>opg</td>       <th>                     </th>     <td> </td>    \n</tr>\n</table>\n<table class=\"simpletable\">\n<tr>\n      <td></td>         <th>coef</th>     <th>std err</th>      <th>z</th>      <th>P>|z|</th>  <th>[0.025</th>    <th>0.975]</th>  \n</tr>\n<tr>\n  <th>intercept</th> <td>    0.0132</td> <td>    0.014</td> <td>    0.975</td> <td> 0.330</td> <td>   -0.013</td> <td>    0.040</td>\n</tr>\n<tr>\n  <th>ar.L1</th>     <td>    0.1299</td> <td>    0.059</td> <td>    2.217</td> <td> 0.027</td> <td>    0.015</td> <td>    0.245</td>\n</tr>\n<tr>\n  <th>ma.L1</th>     <td>   -0.9694</td> <td>    0.016</td> <td>  -62.235</td> <td> 0.000</td> <td>   -1.000</td> <td>   -0.939</td>\n</tr>\n<tr>\n  <th>sigma2</th>    <td>   48.9989</td> <td>    3.432</td> <td>   14.279</td> <td> 0.000</td> <td>   42.273</td> <td>   55.725</td>\n</tr>\n</table>\n<table class=\"simpletable\">\n<tr>\n  <th>Ljung-Box (Q):</th>          <td>36.69</td> <th>  Jarque-Bera (JB):  </th> <td>26.17</td>\n</tr>\n<tr>\n  <th>Prob(Q):</th>                <td>0.62</td>  <th>  Prob(JB):          </th> <td>0.00</td> \n</tr>\n<tr>\n  <th>Heteroskedasticity (H):</th> <td>0.97</td>  <th>  Skew:              </th> <td>0.58</td> \n</tr>\n<tr>\n  <th>Prob(H) (two-sided):</th>    <td>0.85</td>  <th>  Kurtosis:          </th> <td>3.62</td> \n</tr>\n</table><br/><br/>Warnings:<br/>[1] Covariance matrix calculated using the outer product of gradients (complex-step)."
     },
     "execution_count": 9,
     "metadata": {},
     "output_type": "execute_result"
    }
   ],
   "source": [
    "stepwise_fit.summary()"
   ],
   "metadata": {
    "collapsed": false,
    "pycharm": {
     "name": "#%%\n"
    }
   }
  },
  {
   "cell_type": "code",
   "execution_count": 10,
   "outputs": [
    {
     "name": "stdout",
     "output_type": "stream",
     "text": [
      "Performing stepwise search to minimize aic\n",
      "Fit ARIMA(1,1,1)x(1,1,1,12) [intercept=True]; AIC=1024.195, BIC=1041.446, Time=0.574 seconds\n",
      "Fit ARIMA(0,1,0)x(0,1,0,12) [intercept=True]; AIC=1033.479, BIC=1039.229, Time=0.010 seconds\n",
      "Fit ARIMA(1,1,0)x(1,1,0,12) [intercept=True]; AIC=1022.316, BIC=1033.817, Time=0.182 seconds\n",
      "Fit ARIMA(0,1,1)x(0,1,1,12) [intercept=True]; AIC=1022.904, BIC=1034.405, Time=0.216 seconds\n",
      "Fit ARIMA(0,1,0)x(0,1,0,12) [intercept=False]; AIC=1031.508, BIC=1034.383, Time=0.010 seconds\n",
      "Fit ARIMA(1,1,0)x(0,1,0,12) [intercept=True]; AIC=1022.343, BIC=1030.968, Time=0.057 seconds\n",
      "Fit ARIMA(1,1,0)x(2,1,0,12) [intercept=True]; AIC=1021.137, BIC=1035.513, Time=0.585 seconds\n",
      "Fit ARIMA(1,1,0)x(2,1,1,12) [intercept=True]; AIC=1017.166, BIC=1034.417, Time=1.960 seconds\n",
      "Near non-invertible roots for order (1, 1, 0)(2, 1, 1, 12); setting score to inf (at least one inverse root too close to the border of the unit circle: 0.998)\n",
      "Fit ARIMA(1,1,0)x(1,1,1,12) [intercept=True]; AIC=1022.410, BIC=1036.786, Time=0.365 seconds\n",
      "Fit ARIMA(0,1,0)x(2,1,0,12) [intercept=True]; AIC=1034.067, BIC=1045.568, Time=0.398 seconds\n",
      "Fit ARIMA(2,1,0)x(2,1,0,12) [intercept=True]; AIC=1023.007, BIC=1040.258, Time=0.747 seconds\n",
      "Fit ARIMA(1,1,1)x(2,1,0,12) [intercept=True]; AIC=1022.905, BIC=1040.156, Time=0.701 seconds\n",
      "Fit ARIMA(0,1,1)x(2,1,0,12) [intercept=True]; AIC=1021.017, BIC=1035.393, Time=0.411 seconds\n",
      "Fit ARIMA(0,1,1)x(1,1,0,12) [intercept=True]; AIC=1022.314, BIC=1033.815, Time=0.137 seconds\n",
      "Fit ARIMA(0,1,1)x(2,1,1,12) [intercept=True]; AIC=1015.839, BIC=1033.090, Time=2.120 seconds\n",
      "Near non-invertible roots for order (0, 1, 1)(2, 1, 1, 12); setting score to inf (at least one inverse root too close to the border of the unit circle: 0.998)\n",
      "Fit ARIMA(0,1,1)x(1,1,1,12) [intercept=True]; AIC=1022.207, BIC=1036.583, Time=0.433 seconds\n",
      "Fit ARIMA(0,1,2)x(2,1,0,12) [intercept=True]; AIC=1022.996, BIC=1040.247, Time=0.622 seconds\n",
      "Fit ARIMA(1,1,2)x(2,1,0,12) [intercept=True]; AIC=1024.668, BIC=1044.795, Time=1.168 seconds\n",
      "Total fit time: 10.716 seconds\n"
     ]
    }
   ],
   "source": [
    "stepwise_fit = auto_arima(df1['Thousands of Passengers'], start_p=1, start_q=1, max_p=4, max_q=4,\n",
    "                          seasonal=True, trace=True, m=12)"
   ],
   "metadata": {
    "collapsed": false,
    "pycharm": {
     "name": "#%%\n"
    }
   }
  },
  {
   "cell_type": "code",
   "execution_count": 11,
   "outputs": [
    {
     "data": {
      "text/plain": "<class 'statsmodels.iolib.summary.Summary'>\n\"\"\"\n                                     SARIMAX Results                                      \n==========================================================================================\nDep. Variable:                                  y   No. Observations:                  144\nModel:             SARIMAX(0, 1, 1)x(2, 1, 1, 12)   Log Likelihood                -501.919\nDate:                            Sun, 31 May 2020   AIC                           1015.839\nTime:                                    01:28:06   BIC                           1033.090\nSample:                                         0   HQIC                          1022.849\n                                            - 144                                         \nCovariance Type:                              opg                                         \n==============================================================================\n                 coef    std err          z      P>|z|      [0.025      0.975]\n------------------------------------------------------------------------------\nintercept      0.0003      0.031      0.008      0.993      -0.061       0.062\nma.L1         -0.4242      0.069     -6.190      0.000      -0.559      -0.290\nar.S.L12       0.6666      0.157      4.247      0.000       0.359       0.974\nar.S.L24       0.3322      0.094      3.535      0.000       0.148       0.516\nma.S.L12      -0.9775      1.327     -0.736      0.461      -3.579       1.624\nsigma2       110.3471    124.464      0.887      0.375    -133.599     354.293\n===================================================================================\nLjung-Box (Q):                       53.11   Jarque-Bera (JB):                 7.55\nProb(Q):                              0.08   Prob(JB):                         0.02\nHeteroskedasticity (H):               2.83   Skew:                             0.10\nProb(H) (two-sided):                  0.00   Kurtosis:                         4.16\n===================================================================================\n\nWarnings:\n[1] Covariance matrix calculated using the outer product of gradients (complex-step).\n\"\"\"",
      "text/html": "<table class=\"simpletable\">\n<caption>SARIMAX Results</caption>\n<tr>\n  <th>Dep. Variable:</th>                  <td>y</td>               <th>  No. Observations:  </th>    <td>144</td>  \n</tr>\n<tr>\n  <th>Model:</th>           <td>SARIMAX(0, 1, 1)x(2, 1, 1, 12)</td> <th>  Log Likelihood     </th> <td>-501.919</td>\n</tr>\n<tr>\n  <th>Date:</th>                   <td>Sun, 31 May 2020</td>        <th>  AIC                </th> <td>1015.839</td>\n</tr>\n<tr>\n  <th>Time:</th>                       <td>01:28:06</td>            <th>  BIC                </th> <td>1033.090</td>\n</tr>\n<tr>\n  <th>Sample:</th>                         <td>0</td>               <th>  HQIC               </th> <td>1022.849</td>\n</tr>\n<tr>\n  <th></th>                             <td> - 144</td>             <th>                     </th>     <td> </td>   \n</tr>\n<tr>\n  <th>Covariance Type:</th>               <td>opg</td>              <th>                     </th>     <td> </td>   \n</tr>\n</table>\n<table class=\"simpletable\">\n<tr>\n      <td></td>         <th>coef</th>     <th>std err</th>      <th>z</th>      <th>P>|z|</th>  <th>[0.025</th>    <th>0.975]</th>  \n</tr>\n<tr>\n  <th>intercept</th> <td>    0.0003</td> <td>    0.031</td> <td>    0.008</td> <td> 0.993</td> <td>   -0.061</td> <td>    0.062</td>\n</tr>\n<tr>\n  <th>ma.L1</th>     <td>   -0.4242</td> <td>    0.069</td> <td>   -6.190</td> <td> 0.000</td> <td>   -0.559</td> <td>   -0.290</td>\n</tr>\n<tr>\n  <th>ar.S.L12</th>  <td>    0.6666</td> <td>    0.157</td> <td>    4.247</td> <td> 0.000</td> <td>    0.359</td> <td>    0.974</td>\n</tr>\n<tr>\n  <th>ar.S.L24</th>  <td>    0.3322</td> <td>    0.094</td> <td>    3.535</td> <td> 0.000</td> <td>    0.148</td> <td>    0.516</td>\n</tr>\n<tr>\n  <th>ma.S.L12</th>  <td>   -0.9775</td> <td>    1.327</td> <td>   -0.736</td> <td> 0.461</td> <td>   -3.579</td> <td>    1.624</td>\n</tr>\n<tr>\n  <th>sigma2</th>    <td>  110.3471</td> <td>  124.464</td> <td>    0.887</td> <td> 0.375</td> <td> -133.599</td> <td>  354.293</td>\n</tr>\n</table>\n<table class=\"simpletable\">\n<tr>\n  <th>Ljung-Box (Q):</th>          <td>53.11</td> <th>  Jarque-Bera (JB):  </th> <td>7.55</td>\n</tr>\n<tr>\n  <th>Prob(Q):</th>                <td>0.08</td>  <th>  Prob(JB):          </th> <td>0.02</td>\n</tr>\n<tr>\n  <th>Heteroskedasticity (H):</th> <td>2.83</td>  <th>  Skew:              </th> <td>0.10</td>\n</tr>\n<tr>\n  <th>Prob(H) (two-sided):</th>    <td>0.00</td>  <th>  Kurtosis:          </th> <td>4.16</td>\n</tr>\n</table><br/><br/>Warnings:<br/>[1] Covariance matrix calculated using the outer product of gradients (complex-step)."
     },
     "execution_count": 11,
     "metadata": {},
     "output_type": "execute_result"
    }
   ],
   "source": [
    "stepwise_fit.summary()"
   ],
   "metadata": {
    "collapsed": false,
    "pycharm": {
     "name": "#%%\n"
    }
   }
  },
  {
   "cell_type": "code",
   "execution_count": null,
   "outputs": [],
   "source": [
    "\n"
   ],
   "metadata": {
    "collapsed": false,
    "pycharm": {
     "name": "#%%\n"
    }
   }
  }
 ],
 "metadata": {
  "kernelspec": {
   "display_name": "Python 3",
   "language": "python",
   "name": "python3"
  },
  "language_info": {
   "codemirror_mode": {
    "name": "ipython",
    "version": 2
   },
   "file_extension": ".py",
   "mimetype": "text/x-python",
   "name": "python",
   "nbconvert_exporter": "python",
   "pygments_lexer": "ipython2",
   "version": "2.7.6"
  }
 },
 "nbformat": 4,
 "nbformat_minor": 0
}